{
 "cells": [
  {
   "cell_type": "code",
   "execution_count": 2,
   "metadata": {},
   "outputs": [],
   "source": [
    "import pandas as pd\n",
    "pd.set_option('display.max_rows',100)\n",
    "pd.set_option('display.max_columns',100)"
   ]
  },
  {
   "cell_type": "code",
   "execution_count": null,
   "metadata": {},
   "outputs": [],
   "source": [
    "# this downloads all 2019 statcast data and stores it in a file\n",
    "# this will take a few minutes and the final file will be around 500MB\n",
    "pb.statcast(\"2019-03-01\", \"2019-10-01\").to_pickle(\"statcast2019.pkl\")"
   ]
  },
  {
   "cell_type": "code",
   "execution_count": 5,
   "metadata": {},
   "outputs": [],
   "source": [
    "# reads the file and filters out only Braves games\n",
    "all_atl = pd.read_pickle(\"statcast2019.pkl\").query(\"home_team == 'ATL' or away_team == 'ATL'\")"
   ]
  },
  {
   "cell_type": "code",
   "execution_count": 8,
   "metadata": {},
   "outputs": [],
   "source": [
    "# filters out only pitches thrown by Braves pitchers\n",
    "atl_pitch = all_atl[((all_atl.home_team == 'ATL') & (all_atl.inning_topbot == 'Bot')) | ((all_atl.away_team == 'ATL') & (all_atl.inning_topbot == 'Top'))]"
   ]
  },
  {
   "cell_type": "code",
   "execution_count": 9,
   "metadata": {},
   "outputs": [],
   "source": [
    "# puts the data into a csv file\n",
    "atl_pitch.to_csv(\"atl_2019_pitches.csv\", index=False)"
   ]
  },
  {
   "cell_type": "code",
   "execution_count": null,
   "metadata": {},
   "outputs": [],
   "source": []
  }
 ],
 "metadata": {
  "kernelspec": {
   "display_name": "Python 3",
   "language": "python",
   "name": "python3"
  },
  "language_info": {
   "codemirror_mode": {
    "name": "ipython",
    "version": 3
   },
   "file_extension": ".py",
   "mimetype": "text/x-python",
   "name": "python",
   "nbconvert_exporter": "python",
   "pygments_lexer": "ipython3",
   "version": "3.7.4"
  }
 },
 "nbformat": 4,
 "nbformat_minor": 4
}
